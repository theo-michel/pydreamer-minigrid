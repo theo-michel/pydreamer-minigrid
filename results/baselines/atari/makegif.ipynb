{
 "cells": [
  {
   "cell_type": "code",
   "execution_count": null,
   "metadata": {},
   "outputs": [],
   "source": [
    "from typing import Dict\n",
    "import tempfile\n",
    "from pathlib import Path\n",
    "import numpy as np\n",
    "from mlflow.tracking import MlflowClient\n",
    "\n",
    "FPS = 10\n",
    "B, T = 5, 50#We take B dreams and put them together, We take T images of each dream\n",
    "\n",
    "def download_artifact_npz(run_id, artifact_path) -> Dict[str, np.ndarray]:\n",
    "    client = MlflowClient()\n",
    "    with tempfile.TemporaryDirectory() as tmpdir:\n",
    "        path = client.download_artifacts(run_id, artifact_path, tmpdir)\n",
    "        with Path(path).open('rb') as f:\n",
    "            data = np.load(f)\n",
    "            return {k: data[k] for k in data.keys()}  # type: ignore\n",
    "\n",
    "def encode_gif(frames, fps):\n",
    "    # Copyright Danijar\n",
    "    from subprocess import Popen, PIPE\n",
    "    h, w, c = frames[0].shape\n",
    "    pxfmt = {1: 'gray', 3: 'rgb24'}[c]\n",
    "    cmd = ' '.join([\n",
    "        'ffmpeg -y -f rawvideo -vcodec rawvideo',\n",
    "        f'-r {fps:.02f} -s {w}x{h} -pix_fmt {pxfmt} -i - -filter_complex',\n",
    "        '[0:v]split[x][z];[z]palettegen[y];[x]fifo[x];[x][y]paletteuse',\n",
    "        f'-r {fps:.02f} -f gif -'])\n",
    "    proc = Popen(cmd.split(' '), stdin=PIPE, stdout=PIPE, stderr=PIPE)\n",
    "    for image in frames:\n",
    "        proc.stdin.write(image.tobytes())  # type: ignore\n",
    "    out, err = proc.communicate()\n",
    "    if proc.returncode:\n",
    "        raise IOError('\\n'.join([' '.join(cmd), err.decode('utf8')]))\n",
    "    del proc\n",
    "    return out\n",
    "\n",
    "def make_gif(env_name, run_id, step, fps=FPS):\n",
    "    dest_path = f'figures/dream_{env_name}_{step}.gif'\n",
    "    artifact = f'd2_wm_dream/{step}.npz'\n",
    "    data = download_artifact_npz(run_id,artifact) \n",
    "    print(data.keys())\n",
    "    img = data['image_pred']\n",
    "    print(\"Img shape\")\n",
    "    print(img.shape)\n",
    "    print(f\"other shape {img[:B, :T].reshape(-1, 64, 64, 3).shape}\")\n",
    "    img = img[:B, :T].reshape((-1, 64, 64, 3))\n",
    "    gif = encode_gif(img, fps)\n",
    "    with Path(dest_path).open('wb') as f:\n",
    "        f.write(gif)\n",
    "\n",
    "\n",
    "def make_gif_episode(env_name, run_id, step, fps=FPS):\n",
    "    dest_path = f'figures/episode_{env_name}_{step}.gif'\n",
    "    artifact = f'episodes/0/{step}.npz'\n",
    "    data = download_artifact_npz(run_id,artifact) \n",
    "    print(data.keys())\n",
    "    img = data['image_t'].transpose(3, 0, 1, 2)  # HWCT => THWC\n",
    "    print(\"Img shape\")\n",
    "    print(img.shape)\n",
    "    img = img.reshape(-1, 64, 64, 3,order='F')\n",
    "    # print(f\"other shape {img[:B, :T].reshape(-1, 64, 64, 3).shape}\")\n",
    "    # img = img[:B, :T].reshape((-1, 64, 64, 3))\n",
    "    gif = encode_gif(img, fps)\n",
    "    with Path(dest_path).open('wb') as f:\n",
    "        f.write(gif)\n",
    "\n",
    "def make_gif_episode_eval(env_name, run_id, step, fps=FPS):\n",
    "    dest_path = f'figures/episode_{env_name}_{step}.gif'\n",
    "    artifact = f'episodes_eval/0/{step}.npz'\n",
    "    data = download_artifact_npz(run_id,artifact) \n",
    "    print(data.keys())\n",
    "    img = data['image_t'].transpose(3, 0, 1, 2)  # HWCT => THWC\n",
    "    print(\"Img shape\")\n",
    "    print(img.shape)\n",
    "    img = img.reshape(-1, 64, 64, 3,order='F')\n",
    "    # print(f\"other shape {img[:B, :T].reshape(-1, 64, 64, 3).shape}\")\n",
    "    # img = img[:B, :T].reshape((-1, 64, 64, 3))\n",
    "    gif = encode_gif(img, fps)\n",
    "    with Path(dest_path).open('wb') as f:\n",
    "        f.write(gif)\n",
    "\n",
    "\n",
    "\n",
    "def make_gif_minigrid(env_name, run_id, step, fps=FPS):\n",
    "    dest_path = f'figures/dream_{env_name}_{step}.gif'\n",
    "    artifact = f'd2_wm_dream/{step}.npz'\n",
    "    data = download_artifact_npz(run_id, artifact)#Minigrid\n",
    "    print(data.keys())\n",
    "    img = data['image_pred']\n",
    "    print(\"Img shape\")\n",
    "    print(img.shape)\n",
    "    # print(f\"other shape {img[:B, :T].reshape(-1, 64, 64, 3).shape}\")\n",
    "    img = img[:B, :T,:,:,:4].reshape((-1, 7, 7, 4))\n",
    "    l = len(img[:,0,0,0])\n",
    "    new_shape = (img.shape[0],img.shape[1],img.shape[2],3)\n",
    "    print(new_shape)\n",
    "    rgb = np.empty(new_shape)\n",
    "    # for i in range(l):\n",
    "    #     rgb[i] = rgba2rgb(img[i,:,:,:])\n",
    "    print(\"new image shape\")\n",
    "    print(rgb.shape)\n",
    "    gif = encode_gif(rgb, fps)\n",
    "    with Path(dest_path).open('wb') as f:\n",
    "        f.write(gif)\n",
    "\n",
    "\n",
    "def rgba2rgb( rgba, background=(255,255,255) ):\n",
    "    row, col, ch = rgba.shape#Minigrid\n",
    "    if ch == 3:\n",
    "        return rgba\n",
    "\n",
    "    assert ch == 4, 'RGBA image has 4 channels.'\n",
    "\n",
    "    rgb = np.zeros( (row, col, 3), dtype='float32' )\n",
    "    r, g, b, a = rgba[:,:,0], rgba[:,:,1], rgba[:,:,2], rgba[:,:,3]\n",
    "\n",
    "    a = np.asarray( a, dtype='float32' ) / 255.0\n",
    "\n",
    "    R, G, B = background\n",
    "\n",
    "    rgb[:,:,0] = r * a + (1.0 - a) * R\n",
    "    rgb[:,:,1] = g * a + (1.0 - a) * G\n",
    "    rgb[:,:,2] = b * a + (1.0 - a) * B\n",
    "\n",
    "    return np.asarray( rgb, dtype='uint8' )"
   ]
  },
  {
   "cell_type": "code",
   "execution_count": null,
   "metadata": {},
   "outputs": [],
   "source": [
    "#Minigrid\n",
    "\n",
    "# make_gif_minigrid('minigrid', '2fdd91da643b4b20a6f06d398f5c554f', '0001001')\n",
    "# make_gif_minigrid('minigrid', '342ccaea0b0b4812929cb5433bac3510', '0002001')\n"
   ]
  },
  {
   "cell_type": "code",
   "execution_count": null,
   "metadata": {},
   "outputs": [],
   "source": [
    "# Adventure \n",
    "# make_gif('adventure', '261d3a26b2b842ec990a8d0a5d6111ac', '0000001')\n",
    "# make_gif('adventure', '261d3a26b2b842ec990a8d0a5d6111ac', '0001001')\n",
    "# make_gif('adventure', '261d3a26b2b842ec990a8d0a5d6111ac', '0086001')\n",
    "# make_gif('adventure', '261d3a26b2b842ec990a8d0a5d6111ac', '0150001')\n",
    "# make_gif('adventure', '261d3a26b2b842ec990a8d0a5d6111ac', '0201001')\n",
    "# make_gif('adventure', '261d3a26b2b842ec990a8d0a5d6111ac', '0250001')\n",
    "# make_gif('adventure', '261d3a26b2b842ec990a8d0a5d6111ac', '0300001')\n",
    "# make_gif('adventure', '261d3a26b2b842ec990a8d0a5d6111ac', '0314001')\n",
    "# make_gif('adventure', '261d3a26b2b842ec990a8d0a5d6111ac', '0308001')\n",
    "make_gif_episode('adventure', '261d3a26b2b842ec990a8d0a5d6111ac', 'ep000257_000257-0-r0-1001')\n",
    "make_gif_episode_eval('adventure', '261d3a26b2b842ec990a8d0a5d6111ac', 'ep000283_000283-5-r0-1142')\n",
    "\n"
   ]
  },
  {
   "cell_type": "code",
   "execution_count": null,
   "metadata": {},
   "outputs": [],
   "source": [
    "# Montezuma\n",
    "\n",
    "make_gif('montezuma', '599e69d178ca4f65a10423d272f9f45d', '0500001')"
   ]
  },
  {
   "cell_type": "code",
   "execution_count": null,
   "metadata": {},
   "outputs": [],
   "source": [
    "# Breakout\n",
    "\n",
    "make_gif('breakout', '83e5def4975242ccbf16a3ca8f62a674', '0500001')"
   ]
  },
  {
   "cell_type": "code",
   "execution_count": null,
   "metadata": {},
   "outputs": [],
   "source": [
    "# Space invaders\n",
    "\n",
    "make_gif('invaders', '6d57d49ab844475cbb83b606816b01fe', '0500001')"
   ]
  },
  {
   "cell_type": "code",
   "execution_count": null,
   "metadata": {},
   "outputs": [],
   "source": [
    "# DMC quadruped\n",
    "\n",
    "make_gif('quadruped', 'ff6cb24c04de4e6b821bb811c855d207', '0300001')"
   ]
  },
  {
   "cell_type": "code",
   "execution_count": null,
   "metadata": {},
   "outputs": [],
   "source": [
    "# DMLab goals small\n",
    "\n",
    "make_gif('dmlab', '6f78cce067464e8aa4bcb6f35a1a4386', '0161001', fps=8)"
   ]
  },
  {
   "cell_type": "code",
   "execution_count": null,
   "metadata": {},
   "outputs": [],
   "source": [
    "# MiniWorld ScavengerHunt\n",
    "\n",
    "make_gif('scavenger', '123b575400874f5db75ac7887f4e61c0', '0900001')"
   ]
  },
  {
   "cell_type": "code",
   "execution_count": null,
   "metadata": {},
   "outputs": [],
   "source": [
    "# make_gif('pong', '6e7cd15f26854e42a458c358d21b65c9', '0000001')\n",
    "make_gif('pong', 'a4efeae409604aa4a0f8455488dae462', '0002001')\n",
    "make_gif('pong', 'a4efeae409604aa4a0f8455488dae462', '0004001')\n",
    "make_gif('pong', 'a4efeae409604aa4a0f8455488dae462', '0006001')\n",
    "\n"
   ]
  }
 ],
 "metadata": {
  "kernelspec": {
   "display_name": "Python 3.8.10 ('env': venv)",
   "language": "python",
   "name": "python3"
  },
  "language_info": {
   "codemirror_mode": {
    "name": "ipython",
    "version": 3
   },
   "file_extension": ".py",
   "mimetype": "text/x-python",
   "name": "python",
   "nbconvert_exporter": "python",
   "pygments_lexer": "ipython3",
   "version": "3.8.10"
  },
  "orig_nbformat": 4,
  "vscode": {
   "interpreter": {
    "hash": "3b689f4da05e5af6be22d536205ccd9d8c0d85737225c21244d36d7e034a8a85"
   }
  }
 },
 "nbformat": 4,
 "nbformat_minor": 2
}
