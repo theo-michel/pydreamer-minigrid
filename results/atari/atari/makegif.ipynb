{
 "cells": [
  {
   "cell_type": "code",
   "execution_count": 15,
   "metadata": {},
   "outputs": [],
   "source": [
    "from typing import Dict\n",
    "import tempfile\n",
    "from pathlib import Path\n",
    "import numpy as np\n",
    "from mlflow.tracking import MlflowClient\n",
    "\n",
    "FPS = 10\n",
    "B, T = 5, 50#We take B dreams and put them together, We take T images of each dream\n",
    "\n",
    "def download_artifact_npz(run_id, artifact_path) -> Dict[str, np.ndarray]:\n",
    "    client = MlflowClient()\n",
    "    with tempfile.TemporaryDirectory() as tmpdir:\n",
    "        path = client.download_artifacts(run_id, artifact_path, tmpdir)\n",
    "        with Path(path).open('rb') as f:\n",
    "            data = np.load(f)\n",
    "            return {k: data[k] for k in data.keys()}  # type: ignore\n",
    "\n",
    "def encode_gif(frames, fps):\n",
    "    # Copyright Danijar\n",
    "    from subprocess import Popen, PIPE\n",
    "    h, w, c = frames[0].shape\n",
    "    pxfmt = {1: 'gray', 3: 'rgb24'}[c]\n",
    "    cmd = ' '.join([\n",
    "        'ffmpeg -y -f rawvideo -vcodec rawvideo',\n",
    "        f'-r {fps:.02f} -s {w}x{h} -pix_fmt {pxfmt} -i - -filter_complex',\n",
    "        '[0:v]split[x][z];[z]palettegen[y];[x]fifo[x];[x][y]paletteuse',\n",
    "        f'-r {fps:.02f} -f gif -'])\n",
    "    proc = Popen(cmd.split(' '), stdin=PIPE, stdout=PIPE, stderr=PIPE)\n",
    "    for image in frames:\n",
    "        proc.stdin.write(image.tobytes())  # type: ignore\n",
    "    out, err = proc.communicate()\n",
    "    if proc.returncode:\n",
    "        raise IOError('\\n'.join([' '.join(cmd), err.decode('utf8')]))\n",
    "    del proc\n",
    "    return out\n",
    "\n",
    "def make_gif(env_name, run_id, step, fps=FPS):\n",
    "    dest_path = f'figures/dream_{env_name}_{step}.gif'\n",
    "    artifact = f'd2_wm_dream/{step}.npz'\n",
    "    data = download_artifact_npz(run_id,artifact) \n",
    "    print(data.keys())\n",
    "    img = data['image_pred']\n",
    "    print(\"Img shape\")\n",
    "    print(img.shape)\n",
    "    print(f\"other shape {img[:B, :T].reshape(-1, 64, 64, 3).shape}\")\n",
    "    img = img[:B, :T].reshape((-1, 64, 64, 3))\n",
    "    gif = encode_gif(img, fps)\n",
    "    with Path(dest_path).open('wb') as f:\n",
    "        f.write(gif)\n",
    "\n",
    "def make_gif_minigrid(env_name, run_id, step, fps=FPS):\n",
    "    dest_path = f'figures/dream_{env_name}_{step}.gif'\n",
    "    artifact = f'd2_wm_dream/{step}.npz'\n",
    "    data = download_artifact_npz(run_id, artifact)#Minigrid\n",
    "    print(data.keys())\n",
    "    img = data['image_pred']\n",
    "    print(\"Img shape\")\n",
    "    print(img.shape)\n",
    "    # print(f\"other shape {img[:B, :T].reshape(-1, 64, 64, 3).shape}\")\n",
    "    img = img[:B, :T,:,:,:4].reshape((-1, 7, 7, 4))\n",
    "    l = len(img[:,0,0,0])\n",
    "    new_shape = (img.shape[0],img.shape[1],img.shape[2],3)\n",
    "    print(new_shape)\n",
    "    rgb = np.empty(new_shape)\n",
    "    # for i in range(l):\n",
    "    #     rgb[i] = rgba2rgb(img[i,:,:,:])\n",
    "    print(\"new image shape\")\n",
    "    print(rgb.shape)\n",
    "    gif = encode_gif(rgb, fps)\n",
    "    with Path(dest_path).open('wb') as f:\n",
    "        f.write(gif)\n",
    "\n",
    "\n",
    "def rgba2rgb( rgba, background=(255,255,255) ):\n",
    "    row, col, ch = rgba.shape#Minigrid\n",
    "    if ch == 3:\n",
    "        return rgba\n",
    "\n",
    "    assert ch == 4, 'RGBA image has 4 channels.'\n",
    "\n",
    "    rgb = np.zeros( (row, col, 3), dtype='float32' )\n",
    "    r, g, b, a = rgba[:,:,0], rgba[:,:,1], rgba[:,:,2], rgba[:,:,3]\n",
    "\n",
    "    a = np.asarray( a, dtype='float32' ) / 255.0\n",
    "\n",
    "    R, G, B = background\n",
    "\n",
    "    rgb[:,:,0] = r * a + (1.0 - a) * R\n",
    "    rgb[:,:,1] = g * a + (1.0 - a) * G\n",
    "    rgb[:,:,2] = b * a + (1.0 - a) * B\n",
    "\n",
    "    return np.asarray( rgb, dtype='uint8' )"
   ]
  },
  {
   "cell_type": "code",
   "execution_count": 16,
   "metadata": {},
   "outputs": [
    {
     "name": "stdout",
     "output_type": "stream",
     "text": [
      "dict_keys(['map_masked', 'map', 'reset', 'terminal', 'agent_dir', 'action', 'reward', 'action_next', 'map_agent', 'agent_pos', 'image', 'map_seen_mask', 'map_coord', 'action_pred', 'reward_pred', 'terminal_pred', 'image_pred', 'value', 'value_target', 'value_advantage', 'value_advantage_gae', 'value_weight'])\n",
      "Img shape\n",
      "(5, 15, 7, 7, 4)\n",
      "(75, 7, 7, 3)\n",
      "new image shape\n",
      "(75, 7, 7, 3)\n"
     ]
    },
    {
     "name": "stderr",
     "output_type": "stream",
     "text": [
      "/tmp/ipykernel_2671555/2404866344.py:13: FutureWarning: ``mlflow.tracking.client.MlflowClient.download_artifacts`` is deprecated since 2.0. This method will be removed in a future release. Use ``mlflow.artifacts.download_artifacts`` instead.\n",
      "  path = client.download_artifacts(run_id, artifact_path, tmpdir)\n"
     ]
    }
   ],
   "source": [
    "#Minigrid\n",
    "\n",
    "# make_gif_minigrid('minigrid', '2fdd91da643b4b20a6f06d398f5c554f', '0001001')\n",
    "make_gif_minigrid('minigrid', '342ccaea0b0b4812929cb5433bac3510', '0002001')\n"
   ]
  },
  {
   "cell_type": "code",
   "execution_count": 27,
   "metadata": {},
   "outputs": [
    {
     "name": "stderr",
     "output_type": "stream",
     "text": [
      "/tmp/ipykernel_1026168/2997525302.py:13: FutureWarning: ``mlflow.tracking.client.MlflowClient.download_artifacts`` is deprecated since 2.0. This method will be removed in a future release. Use ``mlflow.artifacts.download_artifacts`` instead.\n",
      "  path = client.download_artifacts(run_id, artifact_path, tmpdir)\n"
     ]
    },
    {
     "ename": "MlflowException",
     "evalue": "Run '599e69d178ca4f65a10423d272f9f45d' not found",
     "output_type": "error",
     "traceback": [
      "\u001b[0;31m---------------------------------------------------------------------------\u001b[0m",
      "\u001b[0;31mMlflowException\u001b[0m                           Traceback (most recent call last)",
      "Cell \u001b[0;32mIn[27], line 3\u001b[0m\n\u001b[1;32m      1\u001b[0m \u001b[39m# Montezuma\u001b[39;00m\n\u001b[0;32m----> 3\u001b[0m make_gif(\u001b[39m'\u001b[39;49m\u001b[39mmontezuma\u001b[39;49m\u001b[39m'\u001b[39;49m, \u001b[39m'\u001b[39;49m\u001b[39m599e69d178ca4f65a10423d272f9f45d\u001b[39;49m\u001b[39m'\u001b[39;49m, \u001b[39m'\u001b[39;49m\u001b[39m0500001\u001b[39;49m\u001b[39m'\u001b[39;49m)\n",
      "Cell \u001b[0;32mIn[26], line 40\u001b[0m, in \u001b[0;36mmake_gif\u001b[0;34m(env_name, run_id, step, fps)\u001b[0m\n\u001b[1;32m     38\u001b[0m dest_path \u001b[39m=\u001b[39m \u001b[39mf\u001b[39m\u001b[39m'\u001b[39m\u001b[39mfigures/dream_\u001b[39m\u001b[39m{\u001b[39;00menv_name\u001b[39m}\u001b[39;00m\u001b[39m_\u001b[39m\u001b[39m{\u001b[39;00mstep\u001b[39m}\u001b[39;00m\u001b[39m.gif\u001b[39m\u001b[39m'\u001b[39m\n\u001b[1;32m     39\u001b[0m artifact \u001b[39m=\u001b[39m \u001b[39mf\u001b[39m\u001b[39m'\u001b[39m\u001b[39md2_wm_dream/\u001b[39m\u001b[39m{\u001b[39;00mstep\u001b[39m}\u001b[39;00m\u001b[39m.npz\u001b[39m\u001b[39m'\u001b[39m\n\u001b[0;32m---> 40\u001b[0m data \u001b[39m=\u001b[39m download_artifact_npz(run_id, artifact)\n\u001b[1;32m     41\u001b[0m \u001b[39mprint\u001b[39m(data\u001b[39m.\u001b[39mkeys())\n\u001b[1;32m     42\u001b[0m img \u001b[39m=\u001b[39m data[\u001b[39m'\u001b[39m\u001b[39mimage_pred\u001b[39m\u001b[39m'\u001b[39m]\n",
      "Cell \u001b[0;32mIn[26], line 13\u001b[0m, in \u001b[0;36mdownload_artifact_npz\u001b[0;34m(run_id, artifact_path)\u001b[0m\n\u001b[1;32m     11\u001b[0m client \u001b[39m=\u001b[39m MlflowClient()\n\u001b[1;32m     12\u001b[0m \u001b[39mwith\u001b[39;00m tempfile\u001b[39m.\u001b[39mTemporaryDirectory() \u001b[39mas\u001b[39;00m tmpdir:\n\u001b[0;32m---> 13\u001b[0m     path \u001b[39m=\u001b[39m client\u001b[39m.\u001b[39;49mdownload_artifacts(run_id, artifact_path, tmpdir)\n\u001b[1;32m     14\u001b[0m     \u001b[39mwith\u001b[39;00m Path(path)\u001b[39m.\u001b[39mopen(\u001b[39m'\u001b[39m\u001b[39mrb\u001b[39m\u001b[39m'\u001b[39m) \u001b[39mas\u001b[39;00m f:\n\u001b[1;32m     15\u001b[0m         data \u001b[39m=\u001b[39m np\u001b[39m.\u001b[39mload(f)\n",
      "File \u001b[0;32m~/work/pyDreamer/env/lib/python3.8/site-packages/mlflow/utils/annotations.py:54\u001b[0m, in \u001b[0;36mdeprecated.<locals>.deprecated_decorator.<locals>.deprecated_func\u001b[0;34m(*args, **kwargs)\u001b[0m\n\u001b[1;32m     51\u001b[0m \u001b[39m@wraps\u001b[39m(func)\n\u001b[1;32m     52\u001b[0m \u001b[39mdef\u001b[39;00m \u001b[39mdeprecated_func\u001b[39m(\u001b[39m*\u001b[39margs, \u001b[39m*\u001b[39m\u001b[39m*\u001b[39mkwargs):\n\u001b[1;32m     53\u001b[0m     warnings\u001b[39m.\u001b[39mwarn(notice, category\u001b[39m=\u001b[39m\u001b[39mFutureWarning\u001b[39;00m, stacklevel\u001b[39m=\u001b[39m\u001b[39m2\u001b[39m)\n\u001b[0;32m---> 54\u001b[0m     \u001b[39mreturn\u001b[39;00m func(\u001b[39m*\u001b[39;49margs, \u001b[39m*\u001b[39;49m\u001b[39m*\u001b[39;49mkwargs)\n",
      "File \u001b[0;32m~/work/pyDreamer/env/lib/python3.8/site-packages/mlflow/tracking/client.py:1468\u001b[0m, in \u001b[0;36mMlflowClient.download_artifacts\u001b[0;34m(self, run_id, path, dst_path)\u001b[0m\n\u001b[1;32m   1423\u001b[0m \u001b[39m@deprecated\u001b[39m(\u001b[39m\"\u001b[39m\u001b[39mmlflow.artifacts.download_artifacts\u001b[39m\u001b[39m\"\u001b[39m, \u001b[39m\"\u001b[39m\u001b[39m2.0\u001b[39m\u001b[39m\"\u001b[39m)\n\u001b[1;32m   1424\u001b[0m \u001b[39mdef\u001b[39;00m \u001b[39mdownload_artifacts\u001b[39m(\u001b[39mself\u001b[39m, run_id: \u001b[39mstr\u001b[39m, path: \u001b[39mstr\u001b[39m, dst_path: Optional[\u001b[39mstr\u001b[39m] \u001b[39m=\u001b[39m \u001b[39mNone\u001b[39;00m) \u001b[39m-\u001b[39m\u001b[39m>\u001b[39m \u001b[39mstr\u001b[39m:\n\u001b[1;32m   1425\u001b[0m     \u001b[39m\"\"\"\u001b[39;00m\n\u001b[1;32m   1426\u001b[0m \u001b[39m    Download an artifact file or directory from a run to a local directory if applicable,\u001b[39;00m\n\u001b[1;32m   1427\u001b[0m \u001b[39m    and return a local path for it.\u001b[39;00m\n\u001b[0;32m   (...)\u001b[0m\n\u001b[1;32m   1466\u001b[0m \u001b[39m        Artifacts: ['features.txt']\u001b[39;00m\n\u001b[1;32m   1467\u001b[0m \u001b[39m    \"\"\"\u001b[39;00m\n\u001b[0;32m-> 1468\u001b[0m     \u001b[39mreturn\u001b[39;00m \u001b[39mself\u001b[39;49m\u001b[39m.\u001b[39;49m_tracking_client\u001b[39m.\u001b[39;49mdownload_artifacts(run_id, path, dst_path)\n",
      "File \u001b[0;32m~/work/pyDreamer/env/lib/python3.8/site-packages/mlflow/tracking/_tracking_service/client.py:452\u001b[0m, in \u001b[0;36mTrackingServiceClient.download_artifacts\u001b[0;34m(self, run_id, path, dst_path)\u001b[0m\n\u001b[1;32m    438\u001b[0m \u001b[39mdef\u001b[39;00m \u001b[39mdownload_artifacts\u001b[39m(\u001b[39mself\u001b[39m, run_id, path, dst_path\u001b[39m=\u001b[39m\u001b[39mNone\u001b[39;00m):\n\u001b[1;32m    439\u001b[0m     \u001b[39m\"\"\"\u001b[39;00m\n\u001b[1;32m    440\u001b[0m \u001b[39m    Download an artifact file or directory from a run to a local directory if applicable,\u001b[39;00m\n\u001b[1;32m    441\u001b[0m \u001b[39m    and return a local path for it.\u001b[39;00m\n\u001b[0;32m   (...)\u001b[0m\n\u001b[1;32m    450\u001b[0m \u001b[39m    :return: Local path of desired artifact.\u001b[39;00m\n\u001b[1;32m    451\u001b[0m \u001b[39m    \"\"\"\u001b[39;00m\n\u001b[0;32m--> 452\u001b[0m     \u001b[39mreturn\u001b[39;00m \u001b[39mself\u001b[39;49m\u001b[39m.\u001b[39;49m_get_artifact_repo(run_id)\u001b[39m.\u001b[39mdownload_artifacts(path, dst_path)\n",
      "File \u001b[0;32m~/work/pyDreamer/env/lib/python3.8/site-packages/mlflow/tracking/_tracking_service/client.py:389\u001b[0m, in \u001b[0;36mTrackingServiceClient._get_artifact_repo\u001b[0;34m(self, run_id)\u001b[0m\n\u001b[1;32m    387\u001b[0m     \u001b[39mreturn\u001b[39;00m cached_repo\n\u001b[1;32m    388\u001b[0m \u001b[39melse\u001b[39;00m:\n\u001b[0;32m--> 389\u001b[0m     run \u001b[39m=\u001b[39m \u001b[39mself\u001b[39;49m\u001b[39m.\u001b[39;49mget_run(run_id)\n\u001b[1;32m    390\u001b[0m     artifact_uri \u001b[39m=\u001b[39m add_databricks_profile_info_to_artifact_uri(\n\u001b[1;32m    391\u001b[0m         run\u001b[39m.\u001b[39minfo\u001b[39m.\u001b[39martifact_uri, \u001b[39mself\u001b[39m\u001b[39m.\u001b[39mtracking_uri\n\u001b[1;32m    392\u001b[0m     )\n\u001b[1;32m    393\u001b[0m     artifact_repo \u001b[39m=\u001b[39m get_artifact_repository(artifact_uri)\n",
      "File \u001b[0;32m~/work/pyDreamer/env/lib/python3.8/site-packages/mlflow/tracking/_tracking_service/client.py:72\u001b[0m, in \u001b[0;36mTrackingServiceClient.get_run\u001b[0;34m(self, run_id)\u001b[0m\n\u001b[1;32m     58\u001b[0m \u001b[39m\"\"\"\u001b[39;00m\n\u001b[1;32m     59\u001b[0m \u001b[39mFetch the run from backend store. The resulting :py:class:`Run <mlflow.entities.Run>`\u001b[39;00m\n\u001b[1;32m     60\u001b[0m \u001b[39mcontains a collection of run metadata -- :py:class:`RunInfo <mlflow.entities.RunInfo>`,\u001b[39;00m\n\u001b[0;32m   (...)\u001b[0m\n\u001b[1;32m     69\u001b[0m \u001b[39m         raises an exception.\u001b[39;00m\n\u001b[1;32m     70\u001b[0m \u001b[39m\"\"\"\u001b[39;00m\n\u001b[1;32m     71\u001b[0m _validate_run_id(run_id)\n\u001b[0;32m---> 72\u001b[0m \u001b[39mreturn\u001b[39;00m \u001b[39mself\u001b[39;49m\u001b[39m.\u001b[39;49mstore\u001b[39m.\u001b[39;49mget_run(run_id)\n",
      "File \u001b[0;32m~/work/pyDreamer/env/lib/python3.8/site-packages/mlflow/store/tracking/file_store.py:623\u001b[0m, in \u001b[0;36mFileStore.get_run\u001b[0;34m(self, run_id)\u001b[0m\n\u001b[1;32m    619\u001b[0m \u001b[39m\"\"\"\u001b[39;00m\n\u001b[1;32m    620\u001b[0m \u001b[39mNote: Will get both active and deleted runs.\u001b[39;00m\n\u001b[1;32m    621\u001b[0m \u001b[39m\"\"\"\u001b[39;00m\n\u001b[1;32m    622\u001b[0m _validate_run_id(run_id)\n\u001b[0;32m--> 623\u001b[0m run_info \u001b[39m=\u001b[39m \u001b[39mself\u001b[39;49m\u001b[39m.\u001b[39;49m_get_run_info(run_id)\n\u001b[1;32m    624\u001b[0m \u001b[39mif\u001b[39;00m run_info \u001b[39mis\u001b[39;00m \u001b[39mNone\u001b[39;00m:\n\u001b[1;32m    625\u001b[0m     \u001b[39mraise\u001b[39;00m MlflowException(\n\u001b[1;32m    626\u001b[0m         \u001b[39m\"\u001b[39m\u001b[39mRun \u001b[39m\u001b[39m'\u001b[39m\u001b[39m%s\u001b[39;00m\u001b[39m'\u001b[39m\u001b[39m metadata is in invalid state.\u001b[39m\u001b[39m\"\u001b[39m \u001b[39m%\u001b[39m run_id, databricks_pb2\u001b[39m.\u001b[39mINVALID_STATE\n\u001b[1;32m    627\u001b[0m     )\n",
      "File \u001b[0;32m~/work/pyDreamer/env/lib/python3.8/site-packages/mlflow/store/tracking/file_store.py:646\u001b[0m, in \u001b[0;36mFileStore._get_run_info\u001b[0;34m(self, run_uuid)\u001b[0m\n\u001b[1;32m    644\u001b[0m exp_id, run_dir \u001b[39m=\u001b[39m \u001b[39mself\u001b[39m\u001b[39m.\u001b[39m_find_run_root(run_uuid)\n\u001b[1;32m    645\u001b[0m \u001b[39mif\u001b[39;00m run_dir \u001b[39mis\u001b[39;00m \u001b[39mNone\u001b[39;00m:\n\u001b[0;32m--> 646\u001b[0m     \u001b[39mraise\u001b[39;00m MlflowException(\n\u001b[1;32m    647\u001b[0m         \u001b[39m\"\u001b[39m\u001b[39mRun \u001b[39m\u001b[39m'\u001b[39m\u001b[39m%s\u001b[39;00m\u001b[39m'\u001b[39m\u001b[39m not found\u001b[39m\u001b[39m\"\u001b[39m \u001b[39m%\u001b[39m run_uuid, databricks_pb2\u001b[39m.\u001b[39mRESOURCE_DOES_NOT_EXIST\n\u001b[1;32m    648\u001b[0m     )\n\u001b[1;32m    649\u001b[0m run_info \u001b[39m=\u001b[39m \u001b[39mself\u001b[39m\u001b[39m.\u001b[39m_get_run_info_from_dir(run_dir)\n\u001b[1;32m    650\u001b[0m \u001b[39mif\u001b[39;00m run_info\u001b[39m.\u001b[39mexperiment_id \u001b[39m!=\u001b[39m exp_id:\n",
      "\u001b[0;31mMlflowException\u001b[0m: Run '599e69d178ca4f65a10423d272f9f45d' not found"
     ]
    }
   ],
   "source": [
    "# Montezuma\n",
    "\n",
    "make_gif('montezuma', '599e69d178ca4f65a10423d272f9f45d', '0500001')"
   ]
  },
  {
   "cell_type": "code",
   "execution_count": null,
   "metadata": {},
   "outputs": [
    {
     "ename": "",
     "evalue": "",
     "output_type": "error",
     "traceback": [
      "\u001b[1;31mRunning cells with 'Python 3.8.10 64-bit' requires ipykernel package.\n",
      "\u001b[1;31mRun the following command to install 'ipykernel' into the Python environment. \n",
      "\u001b[1;31mCommand: '/bin/python3 -m pip install ipykernel -U --user --force-reinstall'"
     ]
    }
   ],
   "source": [
    "# Breakout\n",
    "\n",
    "make_gif('breakout', '83e5def4975242ccbf16a3ca8f62a674', '0500001')"
   ]
  },
  {
   "cell_type": "code",
   "execution_count": null,
   "metadata": {},
   "outputs": [
    {
     "ename": "",
     "evalue": "",
     "output_type": "error",
     "traceback": [
      "\u001b[1;31mRunning cells with 'Python 3.8.10 64-bit' requires ipykernel package.\n",
      "\u001b[1;31mRun the following command to install 'ipykernel' into the Python environment. \n",
      "\u001b[1;31mCommand: '/bin/python3 -m pip install ipykernel -U --user --force-reinstall'"
     ]
    }
   ],
   "source": [
    "# Space invaders\n",
    "\n",
    "make_gif('invaders', '6d57d49ab844475cbb83b606816b01fe', '0500001')"
   ]
  },
  {
   "cell_type": "code",
   "execution_count": null,
   "metadata": {},
   "outputs": [
    {
     "ename": "",
     "evalue": "",
     "output_type": "error",
     "traceback": [
      "\u001b[1;31mRunning cells with 'Python 3.8.10 64-bit' requires ipykernel package.\n",
      "\u001b[1;31mRun the following command to install 'ipykernel' into the Python environment. \n",
      "\u001b[1;31mCommand: '/bin/python3 -m pip install ipykernel -U --user --force-reinstall'"
     ]
    }
   ],
   "source": [
    "# DMC quadruped\n",
    "\n",
    "make_gif('quadruped', 'ff6cb24c04de4e6b821bb811c855d207', '0300001')"
   ]
  },
  {
   "cell_type": "code",
   "execution_count": null,
   "metadata": {},
   "outputs": [
    {
     "ename": "",
     "evalue": "",
     "output_type": "error",
     "traceback": [
      "\u001b[1;31mRunning cells with 'Python 3.8.10 64-bit' requires ipykernel package.\n",
      "\u001b[1;31mRun the following command to install 'ipykernel' into the Python environment. \n",
      "\u001b[1;31mCommand: '/bin/python3 -m pip install ipykernel -U --user --force-reinstall'"
     ]
    }
   ],
   "source": [
    "# DMLab goals small\n",
    "\n",
    "make_gif('dmlab', '6f78cce067464e8aa4bcb6f35a1a4386', '0161001', fps=8)"
   ]
  },
  {
   "cell_type": "code",
   "execution_count": null,
   "metadata": {},
   "outputs": [
    {
     "ename": "",
     "evalue": "",
     "output_type": "error",
     "traceback": [
      "\u001b[1;31mRunning cells with 'Python 3.8.10 64-bit' requires ipykernel package.\n",
      "\u001b[1;31mRun the following command to install 'ipykernel' into the Python environment. \n",
      "\u001b[1;31mCommand: '/bin/python3 -m pip install ipykernel -U --user --force-reinstall'"
     ]
    }
   ],
   "source": [
    "# MiniWorld ScavengerHunt\n",
    "\n",
    "make_gif('scavenger', '123b575400874f5db75ac7887f4e61c0', '0900001')"
   ]
  },
  {
   "cell_type": "code",
   "execution_count": 15,
   "metadata": {},
   "outputs": [
    {
     "name": "stderr",
     "output_type": "stream",
     "text": [
      "/tmp/ipykernel_1026168/1896041366.py:13: FutureWarning: ``mlflow.tracking.client.MlflowClient.download_artifacts`` is deprecated since 2.0. This method will be removed in a future release. Use ``mlflow.artifacts.download_artifacts`` instead.\n",
      "  path = client.download_artifacts(run_id, artifact_path, tmpdir)\n"
     ]
    },
    {
     "name": "stdout",
     "output_type": "stream",
     "text": [
      "dict_keys(['reward', 'action_next', 'action', 'terminal', 'image', 'reset', 'action_pred', 'reward_pred', 'terminal_pred', 'image_pred', 'value', 'value_target', 'value_advantage', 'value_advantage_gae', 'value_weight'])\n",
      "Img shape\n",
      "(32, 48, 64, 64, 3)\n",
      "other shape (240, 64, 64, 3)\n"
     ]
    },
    {
     "name": "stderr",
     "output_type": "stream",
     "text": [
      "/tmp/ipykernel_1026168/1896041366.py:13: FutureWarning: ``mlflow.tracking.client.MlflowClient.download_artifacts`` is deprecated since 2.0. This method will be removed in a future release. Use ``mlflow.artifacts.download_artifacts`` instead.\n",
      "  path = client.download_artifacts(run_id, artifact_path, tmpdir)\n"
     ]
    },
    {
     "name": "stdout",
     "output_type": "stream",
     "text": [
      "dict_keys(['reward', 'action_next', 'action', 'terminal', 'image', 'reset', 'action_pred', 'reward_pred', 'terminal_pred', 'image_pred', 'value', 'value_target', 'value_advantage', 'value_advantage_gae', 'value_weight'])\n",
      "Img shape\n",
      "(32, 48, 64, 64, 3)\n",
      "other shape (240, 64, 64, 3)\n"
     ]
    },
    {
     "name": "stderr",
     "output_type": "stream",
     "text": [
      "/tmp/ipykernel_1026168/1896041366.py:13: FutureWarning: ``mlflow.tracking.client.MlflowClient.download_artifacts`` is deprecated since 2.0. This method will be removed in a future release. Use ``mlflow.artifacts.download_artifacts`` instead.\n",
      "  path = client.download_artifacts(run_id, artifact_path, tmpdir)\n"
     ]
    },
    {
     "name": "stdout",
     "output_type": "stream",
     "text": [
      "dict_keys(['reward', 'action_next', 'action', 'terminal', 'image', 'reset', 'action_pred', 'reward_pred', 'terminal_pred', 'image_pred', 'value', 'value_target', 'value_advantage', 'value_advantage_gae', 'value_weight'])\n",
      "Img shape\n",
      "(32, 48, 64, 64, 3)\n",
      "other shape (240, 64, 64, 3)\n"
     ]
    }
   ],
   "source": [
    "# make_gif('pong', '6e7cd15f26854e42a458c358d21b65c9', '0000001')\n",
    "make_gif('pong', 'a4efeae409604aa4a0f8455488dae462', '0002001')\n",
    "make_gif('pong', 'a4efeae409604aa4a0f8455488dae462', '0004001')\n",
    "make_gif('pong', 'a4efeae409604aa4a0f8455488dae462', '0006001')\n",
    "\n"
   ]
  }
 ],
 "metadata": {
  "kernelspec": {
   "display_name": "Python 3.8.10 ('env': venv)",
   "language": "python",
   "name": "python3"
  },
  "language_info": {
   "codemirror_mode": {
    "name": "ipython",
    "version": 3
   },
   "file_extension": ".py",
   "mimetype": "text/x-python",
   "name": "python",
   "nbconvert_exporter": "python",
   "pygments_lexer": "ipython3",
   "version": "3.8.10"
  },
  "orig_nbformat": 4,
  "vscode": {
   "interpreter": {
    "hash": "3b689f4da05e5af6be22d536205ccd9d8c0d85737225c21244d36d7e034a8a85"
   }
  }
 },
 "nbformat": 4,
 "nbformat_minor": 2
}
